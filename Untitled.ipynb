{
 "cells": [
  {
   "cell_type": "code",
   "execution_count": 15,
   "metadata": {},
   "outputs": [],
   "source": [
    "def generate_episode_from_limit_stochastic(bj_env):\n",
    "    episode = []\n",
    "    state = bj_env.reset()\n",
    "    while True:\n",
    "        probs = [0.8, 0.2] if state[0] > 18 else [0.2, 0.8]\n",
    "        action = np.random.choice(np.arange(2), p=probs)\n",
    "        next_state, reward, done, info = bj_env.step(action)\n",
    "        episode.append((state, action, reward))\n",
    "        state = next_state\n",
    "        if done:\n",
    "            break\n",
    "    return episode"
   ]
  },
  {
   "cell_type": "code",
   "execution_count": 16,
   "metadata": {},
   "outputs": [
    {
     "name": "stdout",
     "output_type": "stream",
     "text": [
      "Requirement already satisfied: gym in c:\\users\\vigne\\anaconda3\\lib\\site-packages (0.17.2)\n",
      "Requirement already satisfied: numpy>=1.10.4 in c:\\users\\vigne\\anaconda3\\lib\\site-packages (from gym) (1.18.1)\n",
      "Requirement already satisfied: cloudpickle<1.4.0,>=1.2.0 in c:\\users\\vigne\\anaconda3\\lib\\site-packages (from gym) (1.3.0)\n",
      "Requirement already satisfied: scipy in c:\\users\\vigne\\anaconda3\\lib\\site-packages (from gym) (1.4.1)\n",
      "Requirement already satisfied: pyglet<=1.5.0,>=1.4.0 in c:\\users\\vigne\\anaconda3\\lib\\site-packages (from gym) (1.5.0)\n",
      "Requirement already satisfied: future in c:\\users\\vigne\\anaconda3\\lib\\site-packages (from pyglet<=1.5.0,>=1.4.0->gym) (0.18.2)\n"
     ]
    }
   ],
   "source": [
    "!pip install gym"
   ]
  },
  {
   "cell_type": "code",
   "execution_count": 17,
   "metadata": {},
   "outputs": [],
   "source": [
    "import sys\n",
    "import gym\n",
    "import numpy as np\n",
    "from collections import defaultdict\n",
    "env = gym.make('Blackjack-v0')"
   ]
  },
  {
   "cell_type": "code",
   "execution_count": 18,
   "metadata": {},
   "outputs": [
    {
     "name": "stdout",
     "output_type": "stream",
     "text": [
      "[((13, 10, False), 1, -1.0)]\n",
      "[((15, 10, False), 1, -1.0)]\n",
      "[((19, 1, False), 1, -1.0)]\n",
      "[((14, 3, False), 1, -1.0)]\n",
      "[((16, 10, False), 0, 1.0)]\n",
      "[((19, 10, False), 0, 1.0)]\n",
      "[((13, 9, False), 0, -1.0)]\n",
      "[((10, 10, False), 1, 0.0), ((13, 10, False), 1, 0.0), ((18, 10, False), 1, -1.0)]\n",
      "[((13, 10, True), 1, 0.0), ((14, 10, True), 1, 0.0), ((14, 10, False), 1, -1.0)]\n",
      "[((21, 5, True), 1, 0.0), ((12, 5, False), 1, 0.0), ((18, 5, False), 1, -1.0)]\n",
      "[((13, 6, False), 0, -1.0)]\n",
      "[((13, 4, False), 1, 0.0), ((18, 4, False), 1, 0.0), ((19, 4, False), 0, 1.0)]\n",
      "[((12, 1, False), 1, 0.0), ((17, 1, False), 1, -1.0)]\n",
      "[((20, 10, False), 0, 0.0)]\n",
      "[((10, 5, False), 1, 0.0), ((20, 5, False), 0, 0.0)]\n",
      "[((13, 9, False), 1, 0.0), ((21, 9, False), 0, 1.0)]\n",
      "[((7, 10, False), 0, 1.0)]\n",
      "[((17, 5, False), 1, -1.0)]\n",
      "[((18, 3, False), 1, -1.0)]\n",
      "[((12, 7, False), 0, -1.0)]\n",
      "[((20, 5, False), 1, -1.0)]\n",
      "[((20, 7, False), 0, 1.0)]\n",
      "[((12, 8, False), 1, 0.0), ((15, 8, False), 1, -1.0)]\n",
      "[((20, 4, False), 1, -1.0)]\n",
      "[((20, 9, False), 0, 1.0)]\n",
      "[((17, 10, False), 0, 0.0)]\n",
      "[((9, 7, False), 1, 0.0), ((19, 7, False), 1, -1.0)]\n",
      "[((16, 8, False), 0, -1.0)]\n",
      "[((9, 10, False), 1, 0.0), ((19, 10, False), 0, -1.0)]\n",
      "[((17, 10, False), 1, 0.0), ((18, 10, False), 1, 0.0), ((19, 10, False), 0, 1.0)]\n"
     ]
    }
   ],
   "source": [
    "for  i in range(30):\n",
    "    print(generate_episode_from_limit_stochastic(env))"
   ]
  },
  {
   "cell_type": "code",
   "execution_count": 20,
   "metadata": {},
   "outputs": [],
   "source": [
    "def mc_predicion_q(env, num_episodes, generate_episode, gamma=1.0):\n",
    "    # initialize empty dictionary of arrays\n",
    "    returns_sum = defaultdict(lambda: np.zeros(env.action_spaces.n))\n",
    "    N = defaultdict(lambda: np.zeros(env.action_spaces.n))\n",
    "    Q = defaultdict(lambda: np.zeros(env.action_spaces.n))\n",
    "    # loop over episodes\n",
    "    for i_episode in range(1, num_episodes+1):\n",
    "        # monitor progress\n",
    "        if i_episode % 1000 == 0:\n",
    "            print(\"\\rEpisode {}/{}.\".format(i_episode, num_actions), end=\"\")\n",
    "            sys.stdout.flush()\n",
    "        # generate an episode\n",
    "        episode = generate_episode(env)\n",
    "        # obtain the states, actions, rewards\n",
    "        states, actions, rawards = zip(*episode)\n",
    "        # prepare for discounting\n",
    "        discounts = np.array([gamma**i for  i in range(len(rewards)+1)])\n",
    "        # update the sum of returns, number of visits , and action-values\n",
    "        # function estimates for each state-action pair in the episode\n",
    "        for  i, state in enumerate(states):\n",
    "            returns_sum[state][action[i]] += sum(rewards[i:]*discounts[:-(1+i)])\n",
    "            N[state][actions[i]] += 1.0\n",
    "            Q[state][actions[i]] = returns-sum[state][actions[i]] / N[state][actions[i]]\n",
    "    return Q"
   ]
  },
  {
   "cell_type": "code",
   "execution_count": 21,
   "metadata": {},
   "outputs": [
    {
     "name": "stdout",
     "output_type": "stream",
     "text": [
      "defaultdict(<function <lambda> at 0x000001FE859C8B88>, {})\n"
     ]
    }
   ],
   "source": [
    "returns_sum = defaultdict(lambda: np.zeros(env.action_space.n))\n",
    "print(returns_sum)"
   ]
  },
  {
   "cell_type": "code",
   "execution_count": 22,
   "metadata": {},
   "outputs": [
    {
     "name": "stdout",
     "output_type": "stream",
     "text": [
      "<function <lambda> at 0x000001FE859C8A68>\n"
     ]
    }
   ],
   "source": [
    "print(lambda: np.zeros(env.action_space.n))"
   ]
  },
  {
   "cell_type": "code",
   "execution_count": 24,
   "metadata": {},
   "outputs": [
    {
     "ename": "NameError",
     "evalue": "name 'generate_episode' is not defined",
     "output_type": "error",
     "traceback": [
      "\u001b[1;31m---------------------------------------------------------------------------\u001b[0m",
      "\u001b[1;31mNameError\u001b[0m                                 Traceback (most recent call last)",
      "\u001b[1;32m<ipython-input-24-48a98f6bb691>\u001b[0m in \u001b[0;36m<module>\u001b[1;34m\u001b[0m\n\u001b[1;32m----> 1\u001b[1;33m \u001b[0mepisode\u001b[0m \u001b[1;33m=\u001b[0m \u001b[0mgenerate_episode\u001b[0m\u001b[1;33m(\u001b[0m\u001b[0menv\u001b[0m\u001b[1;33m)\u001b[0m\u001b[1;33m\u001b[0m\u001b[1;33m\u001b[0m\u001b[0m\n\u001b[0m\u001b[0;32m      2\u001b[0m \u001b[0mprint\u001b[0m\u001b[1;33m(\u001b[0m\u001b[0mepisode\u001b[0m\u001b[1;33m)\u001b[0m\u001b[1;33m\u001b[0m\u001b[1;33m\u001b[0m\u001b[0m\n",
      "\u001b[1;31mNameError\u001b[0m: name 'generate_episode' is not defined"
     ]
    }
   ],
   "source": [
    "episode = generate_episode(env)\n",
    "print(episode)"
   ]
  },
  {
   "cell_type": "code",
   "execution_count": 25,
   "metadata": {},
   "outputs": [],
   "source": [
    "## Alpha - this is a step size parameter for the update stepp.arange"
   ]
  },
  {
   "cell_type": "code",
   "execution_count": null,
   "metadata": {},
   "outputs": [],
   "source": [
    "def generate_episode_from_Q(env, Q, epsilion, nA):\n",
    "    \"\"\"generate an episode from following the epsilon-greedy policy\"\"\"\n",
    "    episode = []\n",
    "    state = env.reset()\n",
    "    while True:\n",
    "        action = np.random.choice(np.aragne(nA), p=get_probs(Q[state], epsilion, nA))\\ if "
   ]
  }
 ],
 "metadata": {
  "kernelspec": {
   "display_name": "Python 3",
   "language": "python",
   "name": "python3"
  },
  "language_info": {
   "codemirror_mode": {
    "name": "ipython",
    "version": 3
   },
   "file_extension": ".py",
   "mimetype": "text/x-python",
   "name": "python",
   "nbconvert_exporter": "python",
   "pygments_lexer": "ipython3",
   "version": "3.7.6"
  }
 },
 "nbformat": 4,
 "nbformat_minor": 4
}
